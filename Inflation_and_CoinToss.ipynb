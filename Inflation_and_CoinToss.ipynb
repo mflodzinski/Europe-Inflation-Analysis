{
 "cells": [
  {
   "cell_type": "markdown",
   "id": "f4fb5549",
   "metadata": {},
   "source": [
    "# SAD - Project 2"
   ]
  },
  {
   "cell_type": "code",
   "execution_count": 17,
   "id": "73c644b8",
   "metadata": {},
   "outputs": [],
   "source": [
    "library(glue)\n",
    "library(readr)\n",
    "library(tidyr)\n",
    "library(raster)\n",
    "library(ggplot2)\n",
    "library(tidyverse)\n",
    "library(zoo)\n",
    "library(dplyr)\n",
    "options(readr.show_col_types = FALSE)"
   ]
  },
  {
   "cell_type": "markdown",
   "id": "7eb58c62",
   "metadata": {},
   "source": [
    "## Problem no.1"
   ]
  },
  {
   "cell_type": "code",
   "execution_count": 2,
   "id": "eae3d9a7",
   "metadata": {},
   "outputs": [],
   "source": [
    "# wyciąganie walut\n",
    "read.csv(\"data/EU_deposits_1yr_data.csv\", skip=2, nrows = 1, header = F) -> headers2\n",
    "read.csv(\"data/EU_deposits_1yr_data.csv\", skip=50, nrows = 1, header = F) -> df2\n",
    "headers2[1] <- \"Date\"\n",
    "as.matrix(headers2) -> m_headers2\n",
    "colnames(df2) <- m_headers2\n",
    "country_currency_tibble <- as_tibble(df2) %>% select_if(~ !any(is.na(.))) %>% pivot_longer(cols=-1) %>% select(name) %>% separate(name, into=c('Country','Currency'),sep=', ') %>% mutate(names=str_replace(Currency,\"^(?!.*Euro).*$\", \"non-Euro\")) %>% select(-Currency) %>% rename(Currency=names)"
   ]
  },
  {
   "cell_type": "code",
   "execution_count": 3,
   "id": "b6d9cb63",
   "metadata": {},
   "outputs": [
    {
     "name": "stderr",
     "output_type": "stream",
     "text": [
      "\u001b[1m\u001b[22mNew names:\n",
      "\u001b[36m•\u001b[39m `1.0` -> `1.0...3`\n",
      "\u001b[36m•\u001b[39m `3.1` -> `3.1...4`\n",
      "\u001b[36m•\u001b[39m `1.0` -> `1.0...5`\n",
      "\u001b[36m•\u001b[39m `1.6` -> `1.6...7`\n",
      "\u001b[36m•\u001b[39m `2.0` -> `2.0...10`\n",
      "\u001b[36m•\u001b[39m `0.9` -> `0.9...11`\n",
      "\u001b[36m•\u001b[39m `1.1` -> `1.1...12`\n",
      "\u001b[36m•\u001b[39m `1.6` -> `1.6...13`\n",
      "\u001b[36m•\u001b[39m `0.9` -> `0.9...17`\n",
      "\u001b[36m•\u001b[39m `1.1` -> `1.1...22`\n",
      "\u001b[36m•\u001b[39m `1.3` -> `1.3...23`\n",
      "\u001b[36m•\u001b[39m `1.3` -> `1.3...27`\n",
      "\u001b[36m•\u001b[39m `2.0` -> `2.0...28`\n",
      "\u001b[36m•\u001b[39m `3.1` -> `3.1...29`\n"
     ]
    }
   ],
   "source": [
    "# dane o inflacji\n",
    "read_csv(\"data/EU_Inflation_HICP_data.csv\", skip=37, n_max = 150) -> dt\n",
    "read.csv(\"data/EU_Inflation_HICP_data.csv\", skip=2, nrows = 1, header = F) -> headers\n",
    "headers[1] <- \"Dates\"\n",
    "as.matrix(headers) -> m_headers\n",
    "colnames(dt) <- m_headers\n",
    "transform(dt, Dates = as.Date(paste0(dt$Dates, '01'), '%Y%b%d')) -> df\n",
    "as_tibble(df) -> dt"
   ]
  },
  {
   "cell_type": "code",
   "execution_count": 4,
   "id": "7be4cc75",
   "metadata": {},
   "outputs": [
    {
     "name": "stderr",
     "output_type": "stream",
     "text": [
      "Warning message:\n",
      "\"\u001b[1m\u001b[22mThe dot-dot notation (`..density..`) was deprecated in ggplot2 3.4.0.\n",
      "\u001b[36mℹ\u001b[39m Please use `after_stat(density)` instead.\"\n",
      "\u001b[1m\u001b[22m`stat_bin()` using `bins = 30`. Pick better value with `binwidth`.\n",
      "\u001b[1m\u001b[22m`stat_bin()` using `bins = 30`. Pick better value with `binwidth`.\n"
     ]
    },
    {
     "data": {
      "image/png": "[encoded data removed]",
      "text/plain": [
       "plot without title"
      ]
     },
     "metadata": {
      "image/png": {
       "height": 420,
       "width": 420
      }
     },
     "output_type": "display_data"
    },
    {
     "data": {
      "text/plain": [
       "\n",
       "\tShapiro-Wilk normality test\n",
       "\n",
       "data:  dt_eu$value\n",
       "W = 0.83997, p-value < 2.2e-16\n"
      ]
     },
     "metadata": {},
     "output_type": "display_data"
    },
    {
     "data": {
      "text/plain": [
       "\n",
       "\tShapiro-Wilk normality test\n",
       "\n",
       "data:  dt_noneu$value\n",
       "W = 0.91724, p-value < 2.2e-16\n"
      ]
     },
     "metadata": {},
     "output_type": "display_data"
    },
    {
     "data": {
      "text/plain": [
       "\n",
       "\tWilcoxon rank sum test with continuity correction\n",
       "\n",
       "data:  dt_eu$value and dt_noneu$value\n",
       "W = 1329864, p-value = 4.764e-08\n",
       "alternative hypothesis: true location shift is less than 0\n"
      ]
     },
     "metadata": {},
     "output_type": "display_data"
    },
    {
     "data": {
      "image/png": "[encoded data removed]",
      "text/plain": [
       "plot without title"
      ]
     },
     "metadata": {
      "image/png": {
       "height": 420,
       "width": 420
      }
     },
     "output_type": "display_data"
    }
   ],
   "source": [
    "dt_eu <- dt %>% select(-EU..changing.composition.) %>% pivot_longer(cols=-1) %>% mutate(Dates = as.factor(as.yearmon(Dates))) %>% merge(y=country_currency_tibble[country_currency_tibble$Currency == \"Euro\",], by.x='name', by.y='Country')\n",
    "dt_noneu <- dt %>% select(-EU..changing.composition.) %>% pivot_longer(cols=-1) %>% mutate(Dates = as.factor(as.yearmon(Dates))) %>% merge(y=country_currency_tibble[country_currency_tibble$Currency == \"non-Euro\",], by.x='name', by.y='Country')\n",
    "\n",
    "ggplot(dt_eu, aes(x=value)) +  geom_histogram(aes(y=..density..)) + stat_function(fun = function(x) dnorm(x, mean=mean(dt_eu$value, na.rm=T), sd=sd(dt_eu$value, na.rm=T)), col = \"red\") + labs(title=\"EU\", x=\"Inflation\")\n",
    "ggplot(dt_noneu, aes(x=value)) +  geom_histogram(aes(y=..density..)) + stat_function(fun = function(x) dnorm(x, mean=mean(dt_noneu$value, na.rm=T), sd=sd(dt_noneu$value, na.rm=T)), col = \"red\") + labs(title=\"Non EU\", x=\"Inflation\")\n",
    "\n",
    "shapiro.test(dt_eu$value)\n",
    "shapiro.test(dt_noneu$value)\n",
    "\n",
    "wilcox.test(dt_eu$value, dt_noneu$value, alternative = \"less\")"
   ]
  },
  {
   "cell_type": "code",
   "execution_count": 5,
   "id": "15076b10",
   "metadata": {},
   "outputs": [
    {
     "name": "stderr",
     "output_type": "stream",
     "text": [
      "\u001b[1m\u001b[22m`stat_bin()` using `bins = 30`. Pick better value with `binwidth`.\n",
      "\u001b[1m\u001b[22m`stat_bin()` using `bins = 30`. Pick better value with `binwidth`.\n"
     ]
    },
    {
     "data": {
      "image/png": "[encoded data removed]",
      "text/plain": [
       "plot without title"
      ]
     },
     "metadata": {
      "image/png": {
       "height": 420,
       "width": 420
      }
     },
     "output_type": "display_data"
    },
    {
     "data": {
      "text/plain": [
       "\n",
       "\tShapiro-Wilk normality test\n",
       "\n",
       "data:  dt_eu$value\n",
       "W = 0.93519, p-value = 2.321e-06\n"
      ]
     },
     "metadata": {},
     "output_type": "display_data"
    },
    {
     "data": {
      "text/plain": [
       "\n",
       "\tShapiro-Wilk normality test\n",
       "\n",
       "data:  dt_noneu$value\n",
       "W = 0.95204, p-value = 4.853e-05\n"
      ]
     },
     "metadata": {},
     "output_type": "display_data"
    },
    {
     "data": {
      "text/plain": [
       "\n",
       "\tWilcoxon signed rank test with continuity correction\n",
       "\n",
       "data:  dt_eu$value and dt_noneu$value\n",
       "V = 2656.5, p-value = 8.55e-09\n",
       "alternative hypothesis: true location shift is less than 0\n"
      ]
     },
     "metadata": {},
     "output_type": "display_data"
    },
    {
     "data": {
      "image/png": "[encoded data removed]",
      "text/plain": [
       "plot without title"
      ]
     },
     "metadata": {
      "image/png": {
       "height": 420,
       "width": 420
      }
     },
     "output_type": "display_data"
    }
   ],
   "source": [
    "dt_noneu %>% group_by(Dates) %>% summarise(value=mean(value)) -> dt_noneu\n",
    "dt_eu %>% group_by(Dates) %>% summarise(value=mean(value)) -> dt_eu\n",
    "\n",
    "ggplot(dt_eu, aes(x=value)) +  geom_histogram(aes(y=..density..)) + stat_function(fun = function(x) dnorm(x, mean=mean(dt_eu$value, na.rm=T), sd=sd(dt_eu$value, na.rm=T)), col = \"red\") + labs(title=\"EU\", x=\"Inflation\")\n",
    "ggplot(dt_noneu, aes(x=value)) +  geom_histogram(aes(y=..density..)) + stat_function(fun = function(x) dnorm(x, mean=mean(dt_noneu$value, na.rm=T), sd=sd(dt_noneu$value, na.rm=T)), col = \"red\") + labs(title=\"Non EU\", x=\"Inflation\")\n",
    "\n",
    "shapiro.test(dt_eu$value)\n",
    "shapiro.test(dt_noneu$value)\n",
    "\n",
    "wilcox.test(dt_eu$value, dt_noneu$value, alternative = \"less\", paired = T)"
   ]
  },
  {
   "cell_type": "markdown",
   "id": "99569aae",
   "metadata": {},
   "source": [
    "## Problem no.2"
   ]
  },
  {
   "cell_type": "code",
   "execution_count": 6,
   "id": "bd0151bb",
   "metadata": {},
   "outputs": [],
   "source": [
    "coin_toss <- function(num_tosses, num_seed, p){\n",
    "    if (num_seed != -1){\n",
    "        set.seed(num_seed)\n",
    "    }\n",
    "    data <- sample(c(0,1), size = 18, replace = TRUE, prob=c(p, 1-p))\n",
    "    return (data)\n",
    "}"
   ]
  },
  {
   "cell_type": "code",
   "execution_count": 7,
   "id": "09f1c9ff",
   "metadata": {},
   "outputs": [
    {
     "data": {
      "text/html": [
       "<style>\n",
       ".list-inline {list-style: none; margin:0; padding: 0}\n",
       ".list-inline>li {display: inline-block}\n",
       ".list-inline>li:not(:last-child)::after {content: \"\\00b7\"; padding: 0 .5ex}\n",
       "</style>\n",
       "<ol class=list-inline><li>0</li><li>0</li><li>0</li><li>1</li><li>1</li><li>1</li><li>1</li><li>0</li><li>1</li><li>1</li><li>1</li><li>0</li><li>1</li><li>1</li><li>0</li><li>0</li><li>1</li><li>0</li></ol>\n"
      ],
      "text/latex": [
       "\\begin{enumerate*}\n",
       "\\item 0\n",
       "\\item 0\n",
       "\\item 0\n",
       "\\item 1\n",
       "\\item 1\n",
       "\\item 1\n",
       "\\item 1\n",
       "\\item 0\n",
       "\\item 1\n",
       "\\item 1\n",
       "\\item 1\n",
       "\\item 0\n",
       "\\item 1\n",
       "\\item 1\n",
       "\\item 0\n",
       "\\item 0\n",
       "\\item 1\n",
       "\\item 0\n",
       "\\end{enumerate*}\n"
      ],
      "text/markdown": [
       "1. 0\n",
       "2. 0\n",
       "3. 0\n",
       "4. 1\n",
       "5. 1\n",
       "6. 1\n",
       "7. 1\n",
       "8. 0\n",
       "9. 1\n",
       "10. 1\n",
       "11. 1\n",
       "12. 0\n",
       "13. 1\n",
       "14. 1\n",
       "15. 0\n",
       "16. 0\n",
       "17. 1\n",
       "18. 0\n",
       "\n",
       "\n"
      ],
      "text/plain": [
       " [1] 0 0 0 1 1 1 1 0 1 1 1 0 1 1 0 0 1 0"
      ]
     },
     "metadata": {},
     "output_type": "display_data"
    }
   ],
   "source": [
    "data <- coin_toss(18, 40, 0.5)\n",
    "data"
   ]
  },
  {
   "cell_type": "code",
   "execution_count": 8,
   "id": "83027810",
   "metadata": {},
   "outputs": [],
   "source": [
    "get_estimators <- function(N, num_tosses, p){\n",
    "    all_estimators <- list()\n",
    "    for (i in 1:N){\n",
    "        data <- coin_toss(num_tosses, -1, p)\n",
    "        estimator <- as.numeric(mean(data))\n",
    "        all_estimators <- append(all_estimators, estimator)\n",
    "    }\n",
    "    all_estimators <- sort(unlist(all_estimators))\n",
    "    return (all_estimators)\n",
    "}\n",
    "confidence_interval <- function(all_estimators, gamma){\n",
    "    center <- 814\n",
    "    side_interval <-length(all_estimators) * gamma / 2\n",
    "    start_index <- as.integer(clamp((center - side_interval), 1, 1000))\n",
    "    end_index <- as.integer(clamp((center + side_interval), 1, 1000))\n",
    "    \n",
    "    all_estimators <- all_estimators[start_index:end_index]\n",
    "    confidence_interval_start <- all_estimators[1]\n",
    "    confidence_interval_end <- tail(all_estimators, n=1)\n",
    "    interval <- c(confidence_interval_start, confidence_interval_end)\n",
    "    return (interval)\n",
    "}"
   ]
  },
  {
   "cell_type": "code",
   "execution_count": 9,
   "id": "ce08a341",
   "metadata": {},
   "outputs": [],
   "source": [
    "estimators <- get_estimators(1000, 18, 0.5555556)\n",
    "\n",
    "test_gamma <- function(gamma){\n",
    "    interval <- confidence_interval(estimators, gamma)\n",
    "    info <- \"confidence_interval = [\"\n",
    "    info <- paste(info, round(interval[1], 2), \",\", round(interval[2], 2), \"]\")\n",
    "    print(info)\n",
    "}"
   ]
  },
  {
   "cell_type": "markdown",
   "id": "736e3743",
   "metadata": {},
   "source": [
    "#### Test parametru `gamma` = 0.1 "
   ]
  },
  {
   "cell_type": "code",
   "execution_count": 10,
   "id": "0f3802ca",
   "metadata": {},
   "outputs": [
    {
     "name": "stdout",
     "output_type": "stream",
     "text": [
      "[1] \"confidence_interval = [ 0.56 , 0.61 ]\"\n"
     ]
    }
   ],
   "source": [
    "test_gamma(0.1)"
   ]
  },
  {
   "cell_type": "markdown",
   "id": "c5126656",
   "metadata": {},
   "source": [
    "#### Test parametru `gamma` = 0.3"
   ]
  },
  {
   "cell_type": "code",
   "execution_count": 11,
   "id": "d315eb66",
   "metadata": {},
   "outputs": [
    {
     "name": "stdout",
     "output_type": "stream",
     "text": [
      "[1] \"confidence_interval = [ 0.5 , 0.67 ]\"\n"
     ]
    }
   ],
   "source": [
    "test_gamma(0.3)"
   ]
  },
  {
   "cell_type": "markdown",
   "id": "465a5094",
   "metadata": {},
   "source": [
    "#### Test parametru `gamma` = 0.5"
   ]
  },
  {
   "cell_type": "code",
   "execution_count": 12,
   "id": "02e33e88",
   "metadata": {},
   "outputs": [
    {
     "name": "stdout",
     "output_type": "stream",
     "text": [
      "[1] \"confidence_interval = [ 0.44 , 0.83 ]\"\n"
     ]
    }
   ],
   "source": [
    "test_gamma(0.5)"
   ]
  },
  {
   "cell_type": "markdown",
   "id": "1d34df2b",
   "metadata": {},
   "source": [
    "#### Test parametru `gamma` = 0.7"
   ]
  },
  {
   "cell_type": "code",
   "execution_count": 13,
   "id": "621f3380",
   "metadata": {},
   "outputs": [
    {
     "name": "stdout",
     "output_type": "stream",
     "text": [
      "[1] \"confidence_interval = [ 0.44 , 0.83 ]\"\n"
     ]
    }
   ],
   "source": [
    "test_gamma(0.7)"
   ]
  },
  {
   "cell_type": "markdown",
   "id": "2d92e72e",
   "metadata": {},
   "source": [
    "#### Test parametru `gamma` = 0.95"
   ]
  },
  {
   "cell_type": "code",
   "execution_count": 14,
   "id": "7b371357",
   "metadata": {},
   "outputs": [
    {
     "name": "stdout",
     "output_type": "stream",
     "text": [
      "[1] \"confidence_interval = [ 0.39 , 0.83 ]\"\n"
     ]
    }
   ],
   "source": [
    "test_gamma(0.95)"
   ]
  },
  {
   "cell_type": "code",
   "execution_count": 15,
   "id": "6bc97ac3",
   "metadata": {
    "scrolled": true
   },
   "outputs": [
    {
     "data": {
      "image/png": "[encoded data removed]",
      "text/plain": [
       "plot without title"
      ]
     },
     "metadata": {
      "image/png": {
       "height": 420,
       "width": 420
      }
     },
     "output_type": "display_data"
    }
   ],
   "source": [
    "p = seq(0, 1, 0.01)\n",
    "f_p = dbeta(p, 9, 9)\n",
    "plot(p, f_p, type = \"l\", col = \"green\")"
   ]
  },
  {
   "cell_type": "code",
   "execution_count": 16,
   "id": "b16b0a7a",
   "metadata": {
    "scrolled": true
   },
   "outputs": [
    {
     "data": {
      "image/png": "[encoded data removed]",
      "text/plain": [
       "plot without title"
      ]
     },
     "metadata": {
      "image/png": {
       "height": 420,
       "width": 420
      }
     },
     "output_type": "display_data"
    },
    {
     "data": {
      "image/png": "[encoded data removed]",
      "text/plain": [
       "plot without title"
      ]
     },
     "metadata": {
      "image/png": {
       "height": 420,
       "width": 420
      }
     },
     "output_type": "display_data"
    }
   ],
   "source": [
    "#a priori\n",
    "alfa = 9\n",
    "beta = 9\n",
    "\n",
    "#a posteriori\n",
    "heads = 4\n",
    "tails = 8\n",
    "\n",
    "p = seq(0, 1, 0.01)\n",
    "f_p = dbeta(p, alfa, beta)\n",
    "plot(p, f_p, type = \"l\", col = \"#482677\")\n",
    "\n",
    "y2 = rbeta(alfa+beta, alfa, beta)\n",
    "y3 = rbeta(alfa+beta, alfa + heads, beta + tails)\n",
    "\n",
    "y2_df <- as.data.frame(y2)\n",
    "y3_df <- as.data.frame(y3)\n",
    "\n",
    "ggplot(y2_df, aes(y = y2)) +\n",
    "  stat_function(fun = dnorm, args = list(mean = mean(y2), sd = sd(y2)), color=\"#482677\", linewidth=1)  +\n",
    "  stat_function(fun = dnorm, args = list(mean = mean(y3), sd = sd(y3)), color=\"#00FF00\", linewidth=1) +\n",
    "  xlab(\"p\") +\n",
    "  ylab(\"f(p)\") +\n",
    "  grid()"
   ]
  },
  {
   "cell_type": "code",
   "execution_count": null,
   "id": "3c718071",
   "metadata": {},
   "outputs": [],
   "source": []
  }
 ],
 "metadata": {
  "kernelspec": {
   "display_name": "R 4.2.2",
   "language": "R",
   "name": "ir42"
  },
  "language_info": {
   "codemirror_mode": "r",
   "file_extension": ".r",
   "mimetype": "text/x-r-source",
   "name": "R",
   "pygments_lexer": "r",
   "version": "4.2.2"
  }
 },
 "nbformat": 4,
 "nbformat_minor": 5
}
